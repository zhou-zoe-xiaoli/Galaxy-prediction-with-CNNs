{
 "cells": [
  {
   "cell_type": "markdown",
   "id": "50f688e8",
   "metadata": {},
   "source": [
    "# Galaxy prediction with CNNs"
   ]
  },
  {
   "cell_type": "markdown",
   "id": "945fc834",
   "metadata": {},
   "source": [
    "Main Goal: build a convolutional neural network (CNN) and try to achieve the highest accuracy possible on the test set"
   ]
  },
  {
   "cell_type": "markdown",
   "id": "e4fd4ccd",
   "metadata": {},
   "source": [
    "## Import relevant packages and initialize"
   ]
  },
  {
   "cell_type": "code",
   "execution_count": null,
   "id": "066ab7d0",
   "metadata": {},
   "outputs": [],
   "source": [
    "import matplotlib.pyplot as plt\n",
    "import numpy as np\n",
    "import pandas as pd\n",
    "import torch\n",
    "from torch import optim, nn\n",
    "from torch.utils.data import DataLoader, TensorDataset\n",
    "\n",
    "plt.rcParams['axes.grid'] = False"
   ]
  },
  {
   "cell_type": "code",
   "execution_count": null,
   "id": "2a5f2f87",
   "metadata": {},
   "outputs": [],
   "source": [
    "device = torch.device('cuda' if torch.cuda.is_available() else 'cpu')"
   ]
  },
  {
   "cell_type": "markdown",
   "id": "8b36bb91",
   "metadata": {},
   "source": [
    "## Load the data"
   ]
  },
  {
   "cell_type": "code",
   "execution_count": null,
   "id": "4e273fc3",
   "metadata": {},
   "outputs": [],
   "source": [
    "train_images, train_counts = torch.load(\n",
    "    f\"/train_dataset_0.0125.pt\", weights_only=True\n",
    ")\n",
    "val_images, val_counts = torch.load(\n",
    "    f\"/validation_dataset_0.0125.pt\", weights_only=True\n",
    ")"
   ]
  },
  {
   "cell_type": "code",
   "execution_count": null,
   "id": "c0c6412d",
   "metadata": {},
   "outputs": [],
   "source": [
    "train_images = train_images.unsqueeze(1)\n",
    "val_images = val_images.unsqueeze(1)"
   ]
  },
  {
   "cell_type": "markdown",
   "id": "35a916a3",
   "metadata": {},
   "source": [
    "## Inspect the data"
   ]
  },
  {
   "cell_type": "code",
   "execution_count": null,
   "id": "4f6f8211",
   "metadata": {},
   "outputs": [],
   "source": [
    "i = np.random.randint(len(train_images))\n",
    "plt.imshow(train_images[i].squeeze(), cmap='gray');\n",
    "plt.title(f\"Number of galaxies: {train_counts[i]}\");"
   ]
  },
  {
   "cell_type": "code",
   "execution_count": null,
   "id": "60d3d8b3",
   "metadata": {},
   "outputs": [
    {
     "data": {
      "image/png": "[encoded data removed]",
      "text/plain": [
       "<Figure size 640x480 with 1 Axes>"
      ]
     },
     "metadata": {},
     "output_type": "display_data"
    }
   ],
   "source": [
    "i = np.random.randint(len(val_images))\n",
    "plt.imshow(val_images[i].squeeze(), cmap='gray');\n",
    "plt.title(f\"Number of galaxies: {val_counts[i]}\");"
   ]
  },
  {
   "cell_type": "markdown",
   "id": "82a43319",
   "metadata": {},
   "source": [
    "# Model architecture"
   ]
  },
  {
   "cell_type": "markdown",
   "id": "1c30cfcf",
   "metadata": {},
   "source": [
    "input： image\n",
    "\n",
    "output：the number of galaxies in the image\n",
    "\n",
    "considering this as a classification problem, that is, the numbers will be treated as classes"
   ]
  },
  {
   "cell_type": "code",
   "execution_count": 1,
   "id": "d6bd034c",
   "metadata": {},
   "outputs": [],
   "source": [
    "# the image dimension\n",
    "dim = 50\n",
    "# the number of classes (maximum number of galaxies is 6)\n",
    "n_classes = 7"
   ]
  },
  {
   "cell_type": "code",
   "execution_count": null,
   "id": "e0f7e754",
   "metadata": {},
   "outputs": [],
   "source": [
    "model = nn.Sequential(\n",
    "    nn.Conv2d(in_channels=1, out_channels=32, kernel_size=3, padding=1),\n",
    "    nn.BatchNorm2d(32),\n",
    "    nn.ReLU(),\n",
    "    nn.Conv2d(32, 32, kernel_size=3, padding=1),\n",
    "    nn.BatchNorm2d(32),\n",
    "    nn.ReLU(),\n",
    "    nn.MaxPool2d(kernel_size=2, stride=2),\n",
    "    \n",
    "    nn.Conv2d(32, 64, kernel_size=3, padding=1),  \n",
    "    nn.BatchNorm2d(64),\n",
    "    nn.ReLU(), \n",
    "    nn.Conv2d(64, 64, kernel_size=3, padding=1),\n",
    "    nn.BatchNorm2d(64),\n",
    "    nn.ReLU(),\n",
    "    nn.MaxPool2d(kernel_size=2, stride=2),\n",
    "\n",
    "    nn.Conv2d(64, 128, kernel_size=3, padding=1),\n",
    "    nn.BatchNorm2d(128),\n",
    "    nn.ReLU(),\n",
    "    nn.Conv2d(128, 128, kernel_size=3, padding=1),\n",
    "    nn.BatchNorm2d(128),\n",
    "    nn.ReLU(),\n",
    "    nn.MaxPool2d(kernel_size=2, stride=2),\n",
    "\n",
    "    nn.Conv2d(128, 128, kernel_size=3, padding=1),\n",
    "    nn.BatchNorm2d(128),\n",
    "    nn.ReLU(),\n",
    "    nn.Conv2d(128, 128, kernel_size=3, padding=1),\n",
    "    nn.BatchNorm2d(128),\n",
    "    nn.ReLU(),\n",
    "    nn.MaxPool2d(kernel_size=2, stride=2),\n",
    "\n",
    "    nn.Flatten(),\n",
    "    nn.Linear(128*3*3, 128),  \n",
    "    nn.ReLU(),\n",
    "    nn.Dropout(0.5),\n",
    "    nn.Linear(128, 7)\n",
    ")"
   ]
  },
  {
   "cell_type": "markdown",
   "id": "e28b6905",
   "metadata": {},
   "source": [
    "# Training "
   ]
  },
  {
   "cell_type": "markdown",
   "id": "51ba9782",
   "metadata": {},
   "source": [
    "re-initializes function"
   ]
  },
  {
   "cell_type": "code",
   "execution_count": null,
   "id": "2b7ff439",
   "metadata": {},
   "outputs": [],
   "source": [
    "def reset_model_parameters(model):\n",
    "    for module in model.modules():\n",
    "        if hasattr(module, 'reset_parameters'):\n",
    "            module.reset_parameters()"
   ]
  },
  {
   "cell_type": "code",
   "execution_count": null,
   "id": "182976a4",
   "metadata": {},
   "outputs": [],
   "source": [
    "def train(model, optimizer, scheduler, train_dataloader, val_dataloader, num_epochs=10):\n",
    "    loss_fn = nn.CrossEntropyLoss()\n",
    "    reset_model_parameters(model)\n",
    "\n",
    "    train_losses = []\n",
    "    val_losses = []\n",
    "\n",
    "    for epoch in range(num_epochs):\n",
    "\n",
    "        train_loss = 0\n",
    "        number = 0\n",
    "\n",
    "        model.train()\n",
    "        for images, counts in train_dataloader:\n",
    "            optimizer.zero_grad()\n",
    "            output = model(images)\n",
    "            loss = loss_fn(output, counts)\n",
    "            loss.backward()\n",
    "            optimizer.step()\n",
    "            train_loss += loss.item() * images.size(0)\n",
    "            number += images.size(0)\n",
    "\n",
    "        epoch_loss = train_loss / number \n",
    "\n",
    "        val_loss = 0\n",
    "        number0 = 0\n",
    "\n",
    "        with torch.no_grad():\n",
    "            model.eval()\n",
    "            for images, counts in val_dataloader:\n",
    "                outputs = model(images)\n",
    "                loss = loss_fn(outputs, counts)\n",
    "                val_loss += loss.item() * images.size(0)\n",
    "                number0 += images.size(0)\n",
    "\n",
    "        epoch_val_loss = val_loss / number0\n",
    "\n",
    "        print(f\"epoch:{epoch} train:{epoch_loss:.4f} val: {epoch_val_loss:.4f}\")\n",
    "        scheduler.step(epoch_val_loss)\n",
    "\n",
    "        train_losses.append(epoch_loss)\n",
    "        val_losses.append(epoch_val_loss)\n",
    "\n",
    "    return train_losses, val_losses"
   ]
  },
  {
   "cell_type": "code",
   "execution_count": null,
   "id": "6d4357ad",
   "metadata": {},
   "outputs": [],
   "source": [
    "# optimizer\n",
    "optimizer = torch.optim.Adam(model.parameters(), lr=0.0005, weight_decay=1e-3)\n",
    "scheduler = torch.optim.lr_scheduler.ReduceLROnPlateau(optimizer, mode='min', factor=0.1, patience=3)"
   ]
  },
  {
   "cell_type": "code",
   "execution_count": null,
   "id": "96602e9b",
   "metadata": {},
   "outputs": [],
   "source": [
    "# data loaders\n",
    "from torchvision import transforms\n",
    "import torch.nn.functional as F\n",
    "\n",
    "train_transform = transforms.Compose([\n",
    "    transforms.RandomRotation(degrees=180),   \n",
    "    transforms.RandomHorizontalFlip(),\n",
    "    transforms.RandomVerticalFlip(), \n",
    "    transforms.RandomAffine(\n",
    "        degrees=0, \n",
    "        translate=(0.1, 0.1), \n",
    "        scale=(0.8, 1.2)  \n",
    "    ),\n",
    "    transforms.ColorJitter(\n",
    "        brightness=0.2, \n",
    "        contrast=0.2, \n",
    "        saturation=0.2,  \n",
    "        hue=0.1         \n",
    "    ),\n",
    "    transforms.RandomResizedCrop(\n",
    "        size=(50, 50),  \n",
    "        scale=(0.8, 1.0), \n",
    "        ratio=(0.9, 1.1)\n",
    "    ),\n",
    "    transforms.RandomPerspective(\n",
    "        distortion_scale=0.5, \n",
    "        p=0.5  \n",
    "    ),\n",
    "    transforms.ToTensor(),  \n",
    "    transforms.Normalize((0.5,), (0.5,))\n",
    "])\n",
    "\n",
    "class GalaxyDataset(torch.utils.data.Dataset):\n",
    "    def __init__(self, images, counts, augment=False):\n",
    "        self.images = images\n",
    "        self.counts = counts\n",
    "        self.augment = augment\n",
    "        \n",
    "    def __len__(self):\n",
    "        return len(self.images)\n",
    "    \n",
    "    def __getitem__(self, idx):\n",
    "        image = self.images[idx].clone() \n",
    "        count = self.counts[idx]\n",
    "        \n",
    "        if self.augment:\n",
    "            k = torch.randint(0, 4, (1,)).item()  \n",
    "            if k > 0:\n",
    "                image = torch.rot90(image, k, dims=[-2, -1])\n",
    "            \n",
    "            if torch.rand(1).item() > 0.5:\n",
    "                image = torch.flip(image, dims=[-2]) \n",
    "            if torch.rand(1).item() > 0.5:\n",
    "                image = torch.flip(image, dims=[-1])  \n",
    "                \n",
    "            if torch.rand(1).item() > 0.5:\n",
    "                scale = 0.8 + 0.4 * torch.rand(1).item()  \n",
    "                image = image * scale\n",
    "                image = torch.clamp(image, 0, 1)  \n",
    "        \n",
    "        return image, count"
   ]
  },
  {
   "cell_type": "code",
   "execution_count": null,
   "id": "68cde764",
   "metadata": {},
   "outputs": [],
   "source": [
    "batch_size = 32\n",
    "\n",
    "train_dataset = GalaxyDataset(train_images, train_counts, augment=True)\n",
    "val_dataset = GalaxyDataset(val_images, val_counts, augment=False)\n",
    "\n",
    "train_dataloader = torch.utils.data.DataLoader(\n",
    "    train_dataset, batch_size=batch_size, shuffle=True\n",
    ")\n",
    "val_dataloader = torch.utils.data.DataLoader(\n",
    "    val_dataset, batch_size=batch_size, shuffle=False\n",
    ")"
   ]
  },
  {
   "cell_type": "code",
   "execution_count": null,
   "id": "a8c388ba",
   "metadata": {},
   "outputs": [
    {
     "name": "stdout",
     "output_type": "stream",
     "text": [
      "epoch:0 train:1.0749 val: 0.6353\n",
      "epoch:1 train:0.7311 val: 0.4900\n",
      "epoch:2 train:0.6502 val: 0.3708\n",
      "epoch:3 train:0.6215 val: 0.3408\n",
      "epoch:4 train:0.6043 val: 0.3630\n",
      "epoch:5 train:0.5789 val: 0.3850\n",
      "epoch:6 train:0.5564 val: 0.4072\n",
      "epoch:7 train:0.5432 val: 0.4281\n",
      "epoch:8 train:0.4955 val: 0.3060\n",
      "epoch:9 train:0.4800 val: 0.2996\n",
      "epoch:10 train:0.4638 val: 0.2865\n",
      "epoch:11 train:0.4614 val: 0.2872\n",
      "epoch:12 train:0.4576 val: 0.2819\n",
      "epoch:13 train:0.4480 val: 0.2738\n",
      "epoch:14 train:0.4437 val: 0.2982\n",
      "epoch:15 train:0.4406 val: 0.3015\n",
      "epoch:16 train:0.4361 val: 0.2703\n",
      "epoch:17 train:0.4384 val: 0.2699\n",
      "epoch:18 train:0.4297 val: 0.2726\n",
      "epoch:19 train:0.4366 val: 0.2732\n",
      "epoch:20 train:0.4210 val: 0.2749\n",
      "epoch:21 train:0.4161 val: 0.2644\n",
      "epoch:22 train:0.4111 val: 0.2806\n",
      "epoch:23 train:0.4206 val: 0.2886\n",
      "epoch:24 train:0.4176 val: 0.2670\n",
      "epoch:25 train:0.4215 val: 0.2692\n",
      "epoch:26 train:0.4013 val: 0.2631\n",
      "epoch:27 train:0.3956 val: 0.2685\n",
      "epoch:28 train:0.3997 val: 0.2653\n",
      "epoch:29 train:0.4015 val: 0.2646\n",
      "epoch:30 train:0.4000 val: 0.2693\n",
      "epoch:31 train:0.3990 val: 0.2745\n",
      "epoch:32 train:0.4028 val: 0.2628\n",
      "epoch:33 train:0.3930 val: 0.2627\n",
      "epoch:34 train:0.3979 val: 0.2630\n",
      "epoch:35 train:0.3969 val: 0.2648\n",
      "epoch:36 train:0.3963 val: 0.2726\n",
      "epoch:37 train:0.3976 val: 0.2689\n",
      "epoch:38 train:0.3927 val: 0.2632\n",
      "epoch:39 train:0.3929 val: 0.2613\n",
      "epoch:40 train:0.3935 val: 0.2661\n",
      "epoch:41 train:0.3994 val: 0.2601\n",
      "epoch:42 train:0.3957 val: 0.2629\n",
      "epoch:43 train:0.4008 val: 0.2635\n",
      "epoch:44 train:0.3973 val: 0.2636\n",
      "epoch:45 train:0.4009 val: 0.2624\n",
      "epoch:46 train:0.3948 val: 0.2606\n",
      "epoch:47 train:0.3954 val: 0.2619\n",
      "epoch:48 train:0.3987 val: 0.2669\n",
      "epoch:49 train:0.3942 val: 0.2642\n",
      "epoch:50 train:0.4037 val: 0.2688\n",
      "epoch:51 train:0.3993 val: 0.2624\n",
      "epoch:52 train:0.4020 val: 0.2618\n",
      "epoch:53 train:0.3948 val: 0.2679\n",
      "epoch:54 train:0.3939 val: 0.2632\n",
      "epoch:55 train:0.3937 val: 0.2698\n",
      "epoch:56 train:0.3963 val: 0.2617\n",
      "epoch:57 train:0.3956 val: 0.2644\n",
      "epoch:58 train:0.3944 val: 0.2648\n",
      "epoch:59 train:0.3994 val: 0.2603\n",
      "epoch:60 train:0.3956 val: 0.2642\n",
      "epoch:61 train:0.3966 val: 0.2643\n",
      "epoch:62 train:0.4010 val: 0.2693\n",
      "epoch:63 train:0.3957 val: 0.2619\n",
      "epoch:64 train:0.3968 val: 0.2727\n",
      "epoch:65 train:0.4012 val: 0.2644\n",
      "epoch:66 train:0.3974 val: 0.2657\n",
      "epoch:67 train:0.3921 val: 0.2676\n",
      "epoch:68 train:0.4000 val: 0.2661\n",
      "epoch:69 train:0.3969 val: 0.2611\n",
      "epoch:70 train:0.3922 val: 0.2664\n",
      "epoch:71 train:0.3964 val: 0.2634\n",
      "epoch:72 train:0.3921 val: 0.2623\n",
      "epoch:73 train:0.3931 val: 0.2616\n",
      "epoch:74 train:0.3941 val: 0.2624\n"
     ]
    }
   ],
   "source": [
    "train_losses, val_losses = train(model, optimizer, scheduler, train_dataloader, val_dataloader, num_epochs=75)"
   ]
  },
  {
   "cell_type": "markdown",
   "id": "a726cc1a",
   "metadata": {},
   "source": [
    "Plot of training and validation losses"
   ]
  },
  {
   "cell_type": "code",
   "execution_count": null,
   "id": "bf7b577a",
   "metadata": {},
   "outputs": [
    {
     "data": {
      "image/png": "[encoded data removed]",
      "text/plain": [
       "<Figure size 640x480 with 1 Axes>"
      ]
     },
     "metadata": {},
     "output_type": "display_data"
    }
   ],
   "source": [
    "plt.plot(train_losses, label='train');\n",
    "plt.plot(val_losses, label='validation');\n",
    "plt.legend();"
   ]
  },
  {
   "cell_type": "markdown",
   "id": "17ff9e68",
   "metadata": {},
   "source": [
    "# Evaluating the accuracy on the validation set"
   ]
  },
  {
   "cell_type": "code",
   "execution_count": null,
   "id": "07a43b7a",
   "metadata": {},
   "outputs": [],
   "source": [
    "model.eval()\n",
    "pred_train_counts = model(train_images)\n",
    "pred_val_counts = model(val_images)"
   ]
  },
  {
   "cell_type": "code",
   "execution_count": null,
   "id": "bd413573",
   "metadata": {},
   "outputs": [
    {
     "name": "stdout",
     "output_type": "stream",
     "text": [
      "Train accuracy: 0.89\n",
      "Validation accuracy: 0.92\n"
     ]
    }
   ],
   "source": [
    "train_accuracy = (pred_train_counts.argmax(dim=1) == train_counts).float().mean().item()\n",
    "val_accuracy = (pred_val_counts.argmax(dim=1) == val_counts).float().mean().item()\n",
    "print(f\"Train accuracy: {train_accuracy:.2f}\")\n",
    "print(f\"Validation accuracy: {val_accuracy:.2f}\")"
   ]
  },
  {
   "cell_type": "markdown",
   "id": "a4e45729",
   "metadata": {},
   "source": [
    "# Predicting on the test set"
   ]
  },
  {
   "cell_type": "code",
   "execution_count": null,
   "id": "fbe0ef4a",
   "metadata": {},
   "outputs": [],
   "source": [
    "test_images = torch.load(f\"test_images_0.0125.pt\")\n",
    "test_images = test_images.unsqueeze(1)\n",
    "test_loader = DataLoader(test_images, batch_size=512, shuffle=False, num_workers=2)"
   ]
  },
  {
   "cell_type": "code",
   "execution_count": null,
   "id": "be3801f1",
   "metadata": {},
   "outputs": [],
   "source": [
    "predictions = []\n",
    "model.eval()\n",
    "\n",
    "with torch.no_grad():\n",
    "    for images in test_loader:\n",
    "        images = images.to(device)\n",
    "        outputs = model(images)\n",
    "        _, predicted = torch.max(outputs.data, 1)\n",
    "        predictions.extend(predicted.cpu().numpy())\n",
    "\n",
    "image_ids = [f'{i}' for i in range(test_images.shape[0])]\n",
    "prediction_df = pd.DataFrame({\n",
    "    'id'   : image_ids,\n",
    "    'label': predictions\n",
    "})\n",
    "\n",
    "prediction_df.to_csv('submission.csv', index=False)\n"
   ]
  }
 ],
 "metadata": {
  "kernelspec": {
   "display_name": "base",
   "language": "python",
   "name": "python3"
  },
  "language_info": {
   "codemirror_mode": {
    "name": "ipython",
    "version": 3
   },
   "file_extension": ".py",
   "mimetype": "text/x-python",
   "name": "python",
   "nbconvert_exporter": "python",
   "pygments_lexer": "ipython3",
   "version": "3.13.5"
  }
 },
 "nbformat": 4,
 "nbformat_minor": 5
}
